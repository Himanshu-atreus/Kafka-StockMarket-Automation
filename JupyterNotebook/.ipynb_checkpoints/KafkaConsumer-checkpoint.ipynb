{
 "cells": [
  {
   "cell_type": "code",
   "execution_count": 1,
   "id": "6624a7bb-a556-4822-a8da-f4924e698493",
   "metadata": {},
   "outputs": [
    {
     "name": "stdout",
     "output_type": "stream",
     "text": [
      "Collecting s3fs\n",
      "  Downloading s3fs-2024.6.1-py3-none-any.whl.metadata (1.6 kB)\n",
      "Collecting aiobotocore<3.0.0,>=2.5.4 (from s3fs)\n",
      "  Downloading aiobotocore-2.13.1-py3-none-any.whl.metadata (22 kB)\n",
      "Collecting fsspec==2024.6.1.* (from s3fs)\n",
      "  Downloading fsspec-2024.6.1-py3-none-any.whl.metadata (11 kB)\n",
      "Collecting aiohttp!=4.0.0a0,!=4.0.0a1 (from s3fs)\n",
      "  Downloading aiohttp-3.9.5-cp312-cp312-win_amd64.whl.metadata (7.7 kB)\n",
      "Collecting botocore<1.34.132,>=1.34.70 (from aiobotocore<3.0.0,>=2.5.4->s3fs)\n",
      "  Downloading botocore-1.34.131-py3-none-any.whl.metadata (5.7 kB)\n",
      "Collecting wrapt<2.0.0,>=1.10.10 (from aiobotocore<3.0.0,>=2.5.4->s3fs)\n",
      "  Downloading wrapt-1.16.0-cp312-cp312-win_amd64.whl.metadata (6.8 kB)\n",
      "Collecting aioitertools<1.0.0,>=0.5.1 (from aiobotocore<3.0.0,>=2.5.4->s3fs)\n",
      "  Downloading aioitertools-0.11.0-py3-none-any.whl.metadata (3.3 kB)\n",
      "Collecting aiosignal>=1.1.2 (from aiohttp!=4.0.0a0,!=4.0.0a1->s3fs)\n",
      "  Downloading aiosignal-1.3.1-py3-none-any.whl.metadata (4.0 kB)\n",
      "Requirement already satisfied: attrs>=17.3.0 in c:\\users\\pande\\appdata\\local\\programs\\python\\python312\\lib\\site-packages (from aiohttp!=4.0.0a0,!=4.0.0a1->s3fs) (23.2.0)\n",
      "Collecting frozenlist>=1.1.1 (from aiohttp!=4.0.0a0,!=4.0.0a1->s3fs)\n",
      "  Downloading frozenlist-1.4.1-cp312-cp312-win_amd64.whl.metadata (12 kB)\n",
      "Collecting multidict<7.0,>=4.5 (from aiohttp!=4.0.0a0,!=4.0.0a1->s3fs)\n",
      "  Downloading multidict-6.0.5-cp312-cp312-win_amd64.whl.metadata (4.3 kB)\n",
      "Collecting yarl<2.0,>=1.0 (from aiohttp!=4.0.0a0,!=4.0.0a1->s3fs)\n",
      "  Downloading yarl-1.9.4-cp312-cp312-win_amd64.whl.metadata (32 kB)\n",
      "Collecting jmespath<2.0.0,>=0.7.1 (from botocore<1.34.132,>=1.34.70->aiobotocore<3.0.0,>=2.5.4->s3fs)\n",
      "  Downloading jmespath-1.0.1-py3-none-any.whl.metadata (7.6 kB)\n",
      "Requirement already satisfied: python-dateutil<3.0.0,>=2.1 in c:\\users\\pande\\appdata\\local\\programs\\python\\python312\\lib\\site-packages (from botocore<1.34.132,>=1.34.70->aiobotocore<3.0.0,>=2.5.4->s3fs) (2.9.0.post0)\n",
      "Requirement already satisfied: urllib3!=2.2.0,<3,>=1.25.4 in c:\\users\\pande\\appdata\\local\\programs\\python\\python312\\lib\\site-packages (from botocore<1.34.132,>=1.34.70->aiobotocore<3.0.0,>=2.5.4->s3fs) (2.2.1)\n",
      "Requirement already satisfied: idna>=2.0 in c:\\users\\pande\\appdata\\local\\programs\\python\\python312\\lib\\site-packages (from yarl<2.0,>=1.0->aiohttp!=4.0.0a0,!=4.0.0a1->s3fs) (3.7)\n",
      "Requirement already satisfied: six>=1.5 in c:\\users\\pande\\appdata\\local\\programs\\python\\python312\\lib\\site-packages (from python-dateutil<3.0.0,>=2.1->botocore<1.34.132,>=1.34.70->aiobotocore<3.0.0,>=2.5.4->s3fs) (1.16.0)\n",
      "Downloading s3fs-2024.6.1-py3-none-any.whl (29 kB)\n",
      "Downloading fsspec-2024.6.1-py3-none-any.whl (177 kB)\n",
      "   ---------------------------------------- 0.0/177.6 kB ? eta -:--:--\n",
      "   ------ --------------------------------- 30.7/177.6 kB 1.3 MB/s eta 0:00:01\n",
      "   ------------- ------------------------- 61.4/177.6 kB 812.7 kB/s eta 0:00:01\n",
      "   -------------------------- ----------- 122.9/177.6 kB 901.1 kB/s eta 0:00:01\n",
      "   ---------------------------------------- 177.6/177.6 kB 1.1 MB/s eta 0:00:00\n",
      "Downloading aiobotocore-2.13.1-py3-none-any.whl (76 kB)\n",
      "   ---------------------------------------- 0.0/76.9 kB ? eta -:--:--\n",
      "   ---------------------------------------- 76.9/76.9 kB 4.4 MB/s eta 0:00:00\n",
      "Downloading aiohttp-3.9.5-cp312-cp312-win_amd64.whl (369 kB)\n",
      "   ---------------------------------------- 0.0/369.0 kB ? eta -:--:--\n",
      "   ------------------- -------------------- 184.3/369.0 kB 3.7 MB/s eta 0:00:01\n",
      "   ------------------------------- -------- 286.7/369.0 kB 3.5 MB/s eta 0:00:01\n",
      "   ---------------------------------------- 369.0/369.0 kB 3.3 MB/s eta 0:00:00\n",
      "Downloading aioitertools-0.11.0-py3-none-any.whl (23 kB)\n",
      "Downloading aiosignal-1.3.1-py3-none-any.whl (7.6 kB)\n",
      "Downloading botocore-1.34.131-py3-none-any.whl (12.3 MB)\n",
      "   ---------------------------------------- 0.0/12.3 MB ? eta -:--:--\n",
      "   - -------------------------------------- 0.5/12.3 MB 15.5 MB/s eta 0:00:01\n",
      "   -- ------------------------------------- 0.7/12.3 MB 8.8 MB/s eta 0:00:02\n",
      "   --- ------------------------------------ 1.2/12.3 MB 9.2 MB/s eta 0:00:02\n",
      "   ----- ---------------------------------- 1.6/12.3 MB 9.5 MB/s eta 0:00:02\n",
      "   ------- -------------------------------- 2.2/12.3 MB 10.7 MB/s eta 0:00:01\n",
      "   --------- ------------------------------ 2.9/12.3 MB 11.0 MB/s eta 0:00:01\n",
      "   ------------- -------------------------- 4.0/12.3 MB 12.9 MB/s eta 0:00:01\n",
      "   ---------------- ----------------------- 5.0/12.3 MB 14.0 MB/s eta 0:00:01\n",
      "   -------------------- ------------------- 6.3/12.3 MB 15.5 MB/s eta 0:00:01\n",
      "   ------------------------ --------------- 7.6/12.3 MB 16.7 MB/s eta 0:00:01\n",
      "   --------------------------- ------------ 8.6/12.3 MB 17.7 MB/s eta 0:00:01\n",
      "   ----------------------------- ---------- 9.1/12.3 MB 16.5 MB/s eta 0:00:01\n",
      "   -------------------------------- ------- 9.9/12.3 MB 17.1 MB/s eta 0:00:01\n",
      "   -------------------------------- ------- 9.9/12.3 MB 17.1 MB/s eta 0:00:01\n",
      "   --------------------------------- ------ 10.4/12.3 MB 14.9 MB/s eta 0:00:01\n",
      "   ---------------------------------- ----- 10.7/12.3 MB 14.6 MB/s eta 0:00:01\n",
      "   ---------------------------------------  12.3/12.3 MB 17.7 MB/s eta 0:00:01\n",
      "   ---------------------------------------- 12.3/12.3 MB 16.8 MB/s eta 0:00:00\n",
      "Downloading frozenlist-1.4.1-cp312-cp312-win_amd64.whl (50 kB)\n",
      "   ---------------------------------------- 0.0/50.5 kB ? eta -:--:--\n",
      "   ---------------------------------------- 50.5/50.5 kB 2.5 MB/s eta 0:00:00\n",
      "Downloading multidict-6.0.5-cp312-cp312-win_amd64.whl (27 kB)\n",
      "Downloading wrapt-1.16.0-cp312-cp312-win_amd64.whl (37 kB)\n",
      "Downloading yarl-1.9.4-cp312-cp312-win_amd64.whl (76 kB)\n",
      "   ---------------------------------------- 0.0/76.4 kB ? eta -:--:--\n",
      "   ---------------------------------------- 76.4/76.4 kB 4.1 MB/s eta 0:00:00\n",
      "Downloading jmespath-1.0.1-py3-none-any.whl (20 kB)\n",
      "Installing collected packages: wrapt, multidict, jmespath, fsspec, frozenlist, aioitertools, yarl, botocore, aiosignal, aiohttp, aiobotocore, s3fs\n",
      "Successfully installed aiobotocore-2.13.1 aiohttp-3.9.5 aioitertools-0.11.0 aiosignal-1.3.1 botocore-1.34.131 frozenlist-1.4.1 fsspec-2024.6.1 jmespath-1.0.1 multidict-6.0.5 s3fs-2024.6.1 wrapt-1.16.0 yarl-1.9.4\n",
      "Note: you may need to restart the kernel to use updated packages.\n"
     ]
    },
    {
     "name": "stderr",
     "output_type": "stream",
     "text": [
      "\n",
      "[notice] A new release of pip is available: 24.0 -> 24.1.1\n",
      "[notice] To update, run: python.exe -m pip install --upgrade pip\n"
     ]
    }
   ],
   "source": [
    "pip install s3fs"
   ]
  },
  {
   "cell_type": "code",
   "execution_count": 2,
   "id": "7b77d8f7-4a54-4280-b6b3-e09ce7602531",
   "metadata": {},
   "outputs": [],
   "source": [
    "from kafka import KafkaConsumer\n",
    "from time import sleep\n",
    "from json import dumps,loads\n",
    "import json\n",
    "from s3fs import S3FileSystem"
   ]
  },
  {
   "cell_type": "code",
   "execution_count": null,
   "id": "af1f7732-78ab-4812-a72e-78bc6c2e77a9",
   "metadata": {},
   "outputs": [],
   "source": [
    "consumer = KafkaConsumer(\n",
    "    'demo_test',\n",
    "     bootstrap_servers=[':9092'], #enter your public ip adress here \n",
    "    value_deserializer=lambda x: loads(x.decode('utf-8')))"
   ]
  },
  {
   "cell_type": "code",
   "execution_count": 3,
   "id": "aeecb585-6eb0-4a53-abfa-eabb3bb036fc",
   "metadata": {},
   "outputs": [
    {
     "ename": "NameError",
     "evalue": "name 's3FileSystem' is not defined",
     "output_type": "error",
     "traceback": [
      "\u001b[1;31m---------------------------------------------------------------------------\u001b[0m",
      "\u001b[1;31mNameError\u001b[0m                                 Traceback (most recent call last)",
      "Cell \u001b[1;32mIn[3], line 1\u001b[0m\n\u001b[1;32m----> 1\u001b[0m s3 \u001b[38;5;241m=\u001b[39m \u001b[43ms3FileSystem\u001b[49m()\n",
      "\u001b[1;31mNameError\u001b[0m: name 's3FileSystem' is not defined"
     ]
    }
   ],
   "source": [
    "s3 = s3FileSystem()"
   ]
  },
  {
   "cell_type": "code",
   "execution_count": 4,
   "id": "9e4eacff-e4e0-45e9-9322-12ff7ceb8093",
   "metadata": {},
   "outputs": [],
   "source": [
    "s3 = S3FileSystem()"
   ]
  },
  {
   "cell_type": "code",
   "execution_count": null,
   "id": "e8d8445f-5266-4a7a-b0c2-934544b1e56f",
   "metadata": {},
   "outputs": [],
   "source": [
    "for count, i in enumerate(consumer): #count would just count the file number like stock_market_(count).json\n",
    "    with s3.open(\"s3://kafka-stockmarket-himanshu /stock_market_{}.json\".format(count), 'w') as file:\n",
    "        json.dump(i.value, file)  "
   ]
  }
 ],
 "metadata": {
  "kernelspec": {
   "display_name": "Python 3 (ipykernel)",
   "language": "python",
   "name": "python3"
  },
  "language_info": {
   "codemirror_mode": {
    "name": "ipython",
    "version": 3
   },
   "file_extension": ".py",
   "mimetype": "text/x-python",
   "name": "python",
   "nbconvert_exporter": "python",
   "pygments_lexer": "ipython3",
   "version": "3.12.3"
  }
 },
 "nbformat": 4,
 "nbformat_minor": 5
}
